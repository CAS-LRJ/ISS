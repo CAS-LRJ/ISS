{
 "cells": [
  {
   "cell_type": "markdown",
   "metadata": {},
   "source": [
    "## TOC:\n",
    "* [Preparation](#preparation)\n",
    "* [Basic Usages of Lanelet2 HDMap API](#lanelet2_basic)\n",
    "* [Shortest Path Given by Lanelet2](#lanelet2_routing)\n",
    "* [Global Path Planner with Lanelet2 Routing Submap](#lanelet_global_planner)"
   ]
  },
  {
   "cell_type": "markdown",
   "metadata": {},
   "source": [
    "## Cubic Spline of Trajectory points\n",
    "Cubic spline interpolation uses cubic functions to approximate the curves described by a series of points. The cubic spline satisfies the following contraints in our setting.\n",
    "- The curve is continuous and meet every point\n",
    "- \n",
    "$$\n",
    "f(x) = 4 \\tag{1}\n",
    "$$"
   ]
  },
  {
   "cell_type": "markdown",
   "metadata": {},
   "source": [
    "## Why Quintic Polynomials?\n",
    "在车辆行驶中，舒适度是非常重要的一个指标，在物理中舒适度的物理量是跃度，即Jerk，定义是\n",
    "$$\n",
    "Jerk = \\frac{da}{dt}\n",
    "$$\n",
    "其中$a$表示加速度，即$Jerk$是加速度的导数，$Jerk$的绝对值越小意味着的变化越平缓，$a$的变化越平缓意味着越舒适\n",
    "\n",
    "在路径规划中，我们用$s$相对于时间$t$的函数$s=f(t)$来表示轨迹，那么$Jerk = \\frac{d^3f}{dt^3}$，为了使在$[0,T]$内$Jerk$的变化的比较平缓，我们可以构造以下的优化问题：\n",
    "$$\n",
    "\\mathrm{find}\\, f(t) \\, s.t. \\, min\\int_0^T(\\frac{d^3f}{dt^3})^2dt\n",
    "$$\n",
    "并且我们的边界优化条件要求\n",
    "$$\n",
    "s(0) = s_0 \\qquad s(T) = s_n \\\\\n",
    "s'(0) = v_0 \\qquad s'(T) = v_n \\\\\n",
    "s''(0) = a_0 \\qquad s''(T) = a_n\n",
    "$$\n",
    "\n",
    "对初始状态和终止状态进行差分，记\n",
    "$$\n",
    "S(T) - S(0) = s_n - s_0 = \\int_0^Tf'dt = C_0 \\\\\n",
    "S'(T) - S'(0) = v_n - v_0 = \\int_0^Tf''dt = C_1 \\\\\n",
    "S''(T) - S''(0) = a_n - a_0 = \\int_0^Tf'''dt = C_2\n",
    "$$\n",
    "那么原问题就是求解满足约束$\\int_0^T(f'-\\frac{C_0}{T})dt = 0$, $\\int_0^T(f''-\\frac{C_1}{T})dt = 0$, $\\int_0^T(f'''-\\frac{C_2}{T})dt = 0$时，$\\int_0^T(\\frac{d^3f}{dt^3})^2dt$取最小值的函数$f(t)$\n",
    "\n",
    "那么根据Lagrange乘子法，有\n",
    "$$\n",
    "\\int_0^T(\\frac{d^3f}{dt^3})^2dt + \\lambda_1\\int_0^T(f'-\\frac{C_0}{T})dt + \\lambda_2\\int_0^T(f''-\\frac{C_1}{T})dt + \\lambda_3\\int_0^T(f'''-\\frac{C_2}{T}) \\\\\n",
    "= \\int_0^T(\\lambda_1f'+\\lambda_2f''+\\lambda_3f'''+f'''^2-\\lambda1\\frac{C_0}{T}-\\lambda2\\frac{C_1}{T}-\\lambda3\\frac{C_2}{T})dt \\\\\n",
    "= \\int_0^TLdt\n",
    "$$\n",
    "\n"
   ]
  },
  {
   "cell_type": "code",
   "execution_count": null,
   "metadata": {},
   "outputs": [],
   "source": []
  }
 ],
 "metadata": {
  "kernelspec": {
   "display_name": "Python 3 (ipykernel)",
   "language": "python",
   "name": "python3"
  },
  "language_info": {
   "codemirror_mode": {
    "name": "ipython",
    "version": 3
   },
   "file_extension": ".py",
   "mimetype": "text/x-python",
   "name": "python",
   "nbconvert_exporter": "python",
   "pygments_lexer": "ipython3",
   "version": "3.8.17"
  }
 },
 "nbformat": 4,
 "nbformat_minor": 2
}
