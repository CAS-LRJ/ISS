{
 "cells": [
  {
   "cell_type": "markdown",
   "metadata": {},
   "source": [
    "## TOC:\n",
    "* [Preparation](#preparation)\n",
    "* [Basic Usages of Lanelet2 HDMap API](#lanelet2_basic)\n",
    "* [Shortest Path Given by Lanelet2](#lanelet2_routing)\n",
    "* [Global Path Planner with Lanelet2 Routing Submap](#lanelet_global_planner)"
   ]
  },
  {
   "cell_type": "markdown",
   "metadata": {},
   "source": [
    "## Preparation <a class=\"anchor\" id=\"preparation\"></a>\n",
    "We use Carla 0.9.13 as the simulation environment and conduct a series of experiments in map Town06. Before the start, we need to assure that Carla 0.9.13 is installed and the installation directory is set to system environment path. The following code will connect to the simulator and switch the map to Town06. We manually set the start position and the goal for futher experiments."
   ]
  },
  {
   "cell_type": "code",
   "execution_count": 10,
   "metadata": {},
   "outputs": [],
   "source": [
    "import carla\n",
    "import numpy as np\n",
    "import random\n",
    "import sys\n",
    "sys.path.append('../')\n",
    "\n",
    "client = carla.Client('127.0.0.1', 2000)\n",
    "world = client.load_world('Town06')\n",
    "spawn_points = world.get_map().get_spawn_points()\n",
    "start_point = spawn_points[0]\n",
    "start_point = (start_point.location.x, start_point.location.y, np.deg2rad(start_point.rotation.yaw))\n",
    "end_point = spawn_points[10]\n",
    "end_point = (end_point.location.x, end_point.location.y, np.deg2rad(end_point.rotation.yaw))\n"
   ]
  },
  {
   "cell_type": "markdown",
   "metadata": {},
   "source": [
    "## Basic Usages of Lanelet2 HDMap API <a class=\"anchor\" id=\"lanelet2_basic\"></a>\n",
    "In this section, we are going through the basic usages of lanelet2 HDMap. We frist parse the corresponding xml file and project the latitude and longitude on the x,y 2D plane. We then introduce the primitive elements of lanelet2 and try to illustrate them in the CARLA simulator. This includes\n",
    "- points\n",
    "- linestrings\n",
    "- lanelets"
   ]
  },
  {
   "cell_type": "code",
   "execution_count": 11,
   "metadata": {},
   "outputs": [],
   "source": [
    "import lanelet2\n",
    "from lanelet2.projection import UtmProjector\n",
    "\n",
    "lanelet2_town06 = '../resources/maps/Town06_hy.osm'\n",
    "projector = UtmProjector(lanelet2.io.Origin(0., 0.))\n",
    "loadedMap, load_errors = lanelet2.io.loadRobust(lanelet2_town06, projector) \n",
    "traffic_rules = lanelet2.traffic_rules.create(lanelet2.traffic_rules.Locations.Germany,\n",
    "                                                lanelet2.traffic_rules.Participants.Vehicle)"
   ]
  },
  {
   "cell_type": "code",
   "execution_count": 3,
   "metadata": {},
   "outputs": [],
   "source": [
    "## Draw Points (200m around the start position)\n",
    "all_points = []\n",
    "for point in loadedMap.pointLayer:    \n",
    "    if np.linalg.norm((point.x - start_point[0], start_point[1] - point.y)) < 200:        \n",
    "        world.debug.draw_string(carla.Location(point.x, -point.y, 0), '*',\n",
    "                            color=carla.Color(0, 255, 0), life_time=15)   "
   ]
  },
  {
   "cell_type": "code",
   "execution_count": 4,
   "metadata": {},
   "outputs": [],
   "source": [
    "from lanelet2.core import BasicPoint2d\n",
    "## Draw the closest lanelet from the start position\n",
    "world.debug.draw_string(carla.Location(start_point[0], start_point[1], 0.), 'start_pos', color=carla.Color(255, 0, 0), life_time=15)\n",
    "\n",
    "closest_lanelet = lanelet2.geometry.findNearest(loadedMap.laneletLayer, BasicPoint2d(start_point[0], -start_point[1]), 1)[0][1]\n",
    "for point in closest_lanelet.leftBound:\n",
    "    world.debug.draw_string(carla.Location(point.x, -point.y, 0), 'l',\n",
    "                            color=carla.Color(0, 255, 0), life_time=15) \n",
    "\n",
    "for point in closest_lanelet.rightBound:\n",
    "    world.debug.draw_string(carla.Location(point.x, -point.y, 0), 'r',\n",
    "                            color=carla.Color(0, 255, 0), life_time=15) \n",
    "\n",
    "for point in closest_lanelet.centerline:\n",
    "    world.debug.draw_string(carla.Location(point.x, -point.y, 0), 'c',\n",
    "                            color=carla.Color(0, 0, 255), life_time=15) "
   ]
  },
  {
   "cell_type": "markdown",
   "metadata": {},
   "source": [
    "## Shortest Path Given by Lanelet2 <a class=\"anchor\" id=\"lanelet2_routing\"></a>\n",
    "The Lanelet2 library provides the method to plan a shortest path (a series of lanelets) through lanelets from the start to the goal. However, this lanelet path can not be utilized directly since it is not a trajectory."
   ]
  },
  {
   "cell_type": "code",
   "execution_count": 5,
   "metadata": {},
   "outputs": [],
   "source": [
    "start_lanelet = lanelet2.geometry.findNearest(loadedMap.laneletLayer, BasicPoint2d(start_point[0], -start_point[1]), 1)[0][1]\n",
    "goal_lanelet = lanelet2.geometry.findNearest(loadedMap.laneletLayer, BasicPoint2d(end_point[0], -end_point[1]), 1)[0][1]\n",
    "graph = lanelet2.routing.RoutingGraph(loadedMap, traffic_rules)\n",
    "route = graph.getRoute(start_lanelet, goal_lanelet)\n",
    "path = route.shortestPath()\n",
    "\n",
    "for lanelet in path:\n",
    "    for point in lanelet.leftBound:\n",
    "        world.debug.draw_string(carla.Location(point.x, -point.y, 0), 'l',\n",
    "                                color=carla.Color(0, 255, 0), life_time=15) \n",
    "\n",
    "    for point in lanelet.rightBound:\n",
    "        world.debug.draw_string(carla.Location(point.x, -point.y, 0), 'r',\n",
    "                                color=carla.Color(0, 255, 0), life_time=15) \n",
    "\n",
    "    for point in lanelet.centerline:\n",
    "        world.debug.draw_string(carla.Location(point.x, -point.y, 0), 'c',\n",
    "                                color=carla.Color(0, 0, 255), life_time=15) "
   ]
  },
  {
   "cell_type": "markdown",
   "metadata": {},
   "source": [
    "## Global Path Planner with Lanelet2 Routing Submap <a class=\"anchor\" id=\"lanelet_global_planner\"></a>\n",
    "\n",
    "We now use our flood-fill based global planner to generate a global planning trajectory from the start to the goal. Dubins path is utilized to connect two lanelets. We create a solid line detector using KD-Tree to avoid crossover.\n",
    " We choose the trajectory that has the least lane-change distance."
   ]
  },
  {
   "cell_type": "code",
   "execution_count": 12,
   "metadata": {},
   "outputs": [],
   "source": [
    "from ISS.algorithms.planning.global_planner.lanelet2_planner import Lanelet2Planner\n",
    "from ISS.algorithms.utils.vehicleutils.vehicleutils import CollisionChecker\n",
    "\n",
    "def get_solid_checker(loadedMap):\n",
    "    ## Get Solid Points...\n",
    "    inset = set()\n",
    "    solid_points = []\n",
    "    solid_id = []\n",
    "    for lanelet in loadedMap.laneletLayer:\n",
    "        if 'subtype' not in lanelet.attributes or lanelet.attributes['subtype'] != 'road':\n",
    "            continue\n",
    "        left_lane = lanelet.leftBound\n",
    "        right_lane = lanelet.rightBound        \n",
    "        if \"subtype\" in left_lane.attributes and left_lane.attributes['subtype'] == 'solid' and left_lane.id not in inset:\n",
    "            inset.add(left_lane.id)\n",
    "            for point in left_lane:\n",
    "                solid_id.append(left_lane.id)\n",
    "                solid_points.append((point.x, -point.y))\n",
    "\n",
    "        if \"subtype\" in right_lane.attributes and right_lane.attributes['subtype'] == 'solid' and right_lane.id not in inset:\n",
    "            inset.add(right_lane.id)\n",
    "            for point in right_lane:\n",
    "                solid_id.append(right_lane.id)\n",
    "                solid_points.append((point.x, -point.y))\n",
    "    ##\n",
    "    solid_checker = CollisionChecker(solid_points, 4.4, 2.2)\n",
    "    return solid_checker\n",
    "\n",
    "solid_checker = get_solid_checker(loadedMap)\n",
    "planner = Lanelet2Planner(loadedMap, traffic_rules, solid_checker, reverse_y=True)\n",
    "TURNING_RADIUS = 5.\n",
    "traj = planner.plan(start_point, end_point, TURNING_RADIUS)\n",
    "traj.downsample(0.1)\n",
    "if traj != None:\n",
    "    for point in traj.waypoints:\n",
    "        world.debug.draw_string(carla.Location(point[0], point[1], 0), '*',\n",
    "                    color=carla.Color(0, 255, 0), life_time=1200)        "
   ]
  },
  {
   "cell_type": "code",
   "execution_count": 13,
   "metadata": {},
   "outputs": [
    {
     "ename": "KeyboardInterrupt",
     "evalue": "",
     "output_type": "error",
     "traceback": [
      "\u001b[0;31m---------------------------------------------------------------------------\u001b[0m",
      "\u001b[0;31mKeyboardInterrupt\u001b[0m                         Traceback (most recent call last)",
      "\u001b[1;32m/home/lrj/Documents/ISS/examples/demo_lanelet_planner.ipynb Cell 12\u001b[0m line \u001b[0;36m2\n\u001b[1;32m     <a href='vscode-notebook-cell:/home/lrj/Documents/ISS/examples/demo_lanelet_planner.ipynb#X14sZmlsZQ%3D%3D?line=23'>24</a>\u001b[0m vehicle\u001b[39m.\u001b[39mapply_control(control)\n\u001b[1;32m     <a href='vscode-notebook-cell:/home/lrj/Documents/ISS/examples/demo_lanelet_planner.ipynb#X14sZmlsZQ%3D%3D?line=24'>25</a>\u001b[0m \u001b[39m# world.tick()\u001b[39;00m\n\u001b[0;32m---> <a href='vscode-notebook-cell:/home/lrj/Documents/ISS/examples/demo_lanelet_planner.ipynb#X14sZmlsZQ%3D%3D?line=25'>26</a>\u001b[0m spec \u001b[39m=\u001b[39m world\u001b[39m.\u001b[39;49mget_spectator()\n\u001b[1;32m     <a href='vscode-notebook-cell:/home/lrj/Documents/ISS/examples/demo_lanelet_planner.ipynb#X14sZmlsZQ%3D%3D?line=26'>27</a>\u001b[0m spec_trans \u001b[39m=\u001b[39m vehicle\u001b[39m.\u001b[39mget_transform()\n\u001b[1;32m     <a href='vscode-notebook-cell:/home/lrj/Documents/ISS/examples/demo_lanelet_planner.ipynb#X14sZmlsZQ%3D%3D?line=27'>28</a>\u001b[0m ego_vehicle_location \u001b[39m=\u001b[39m vehicle\u001b[39m.\u001b[39mget_transform()\u001b[39m.\u001b[39mlocation\n",
      "\u001b[0;31mKeyboardInterrupt\u001b[0m: "
     ]
    }
   ],
   "source": [
    "from ISS.algorithms.localization.gt_carla import GroundTruthLocalizationCarla    \n",
    "from ISS.algorithms.control.pid.pid import VehiclePIDController\n",
    "import time\n",
    "\n",
    "spawn_points = world.get_map().get_spawn_points()\n",
    "spawn_point_ego = spawn_points[0]   \n",
    "vehicle_bp = world.get_blueprint_library().find('vehicle.tesla.model3')\n",
    "vehicle = world.spawn_actor(vehicle_bp, spawn_point_ego)    \n",
    "\n",
    "controller = VehiclePIDController()\n",
    "locator = GroundTruthLocalizationCarla(vehicle)\n",
    "controller.set_traj(traj)\n",
    "while True:\n",
    "        time.sleep(0.01)\n",
    "        vehicle_location = locator.run_step()\n",
    "        state_cartesian = (vehicle_location.x, vehicle_location.y, vehicle_location.yaw, vehicle_location.velocity, vehicle_location.acceleration)        \n",
    "        control_ = controller.run_step(vehicle_location, None)\n",
    "        control = carla.VehicleControl()\n",
    "        control.steer = control_.steer\n",
    "        control.throttle = control_.throttle\n",
    "        control.brake = control_.brake\n",
    "        control.hand_brake = control_.hand_brake\n",
    "        control.manual_gear_shift = control_.manual_gear_shift\n",
    "        vehicle.apply_control(control)\n",
    "        # world.tick()\n",
    "        spec = world.get_spectator()\n",
    "        spec_trans = vehicle.get_transform()\n",
    "        ego_vehicle_location = vehicle.get_transform().location\n",
    "        ego_vehicle_rotation = vehicle.get_transform().rotation\n",
    "        offset = carla.Vector3D(x=-20.0, y=0, z=50)        \n",
    "        left_rear_location = ego_vehicle_location + ego_vehicle_rotation.get_right_vector() * offset.y + \\\n",
    "                             ego_vehicle_rotation.get_forward_vector() * offset.x + \\\n",
    "                             ego_vehicle_rotation.get_up_vector() * offset.z\n",
    "        rotation_reset = carla.Rotation(pitch=-45.0,\n",
    "                                        yaw=ego_vehicle_rotation.yaw,\n",
    "                                        roll=ego_vehicle_rotation.roll\n",
    "                                        )\n",
    "        spectator_transform = carla.Transform(left_rear_location, rotation_reset)\n",
    "        spec.set_transform(spectator_transform)"
   ]
  }
 ],
 "metadata": {
  "kernelspec": {
   "display_name": "Python 3 (ipykernel)",
   "language": "python",
   "name": "python3"
  },
  "language_info": {
   "codemirror_mode": {
    "name": "ipython",
    "version": 3
   },
   "file_extension": ".py",
   "mimetype": "text/x-python",
   "name": "python",
   "nbconvert_exporter": "python",
   "pygments_lexer": "ipython3",
   "version": "3.8.17"
  }
 },
 "nbformat": 4,
 "nbformat_minor": 2
}
