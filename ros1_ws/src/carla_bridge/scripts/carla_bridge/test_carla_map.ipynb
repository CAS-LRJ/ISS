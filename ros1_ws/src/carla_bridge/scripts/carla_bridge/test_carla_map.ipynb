{
 "cells": [
  {
   "cell_type": "code",
   "execution_count": 1,
   "metadata": {},
   "outputs": [
    {
     "name": "stdout",
     "output_type": "stream",
     "text": [
      "Found 436 spawn points\n"
     ]
    }
   ],
   "source": [
    "import carla\n",
    "\n",
    "client = carla.Client('localhost', 2000)\n",
    "client.set_timeout(5.0)\n",
    "world = client.load_world('Town06')\n",
    "spawn_points = world.get_map().get_spawn_points()\n",
    "\n",
    "for i, spawn_point in enumerate(spawn_points):\n",
    "    world.debug.draw_string(spawn_point.location, f'{i}', draw_shadow=False, color=carla.Color(r=255, g=0, b=0), life_time=1000.0, persistent_lines=True)\n",
    "\n",
    "print(f'Found {len(spawn_points)} spawn points')"
   ]
  },
  {
   "cell_type": "code",
   "execution_count": 2,
   "metadata": {},
   "outputs": [],
   "source": [
    "spectator = world.get_spectator()\n",
    "spectator.set_transform(spawn_points[180])"
   ]
  }
 ],
 "metadata": {
  "kernelspec": {
   "display_name": "iss",
   "language": "python",
   "name": "python3"
  },
  "language_info": {
   "codemirror_mode": {
    "name": "ipython",
    "version": 3
   },
   "file_extension": ".py",
   "mimetype": "text/x-python",
   "name": "python",
   "nbconvert_exporter": "python",
   "pygments_lexer": "ipython3",
   "version": "3.8.18"
  }
 },
 "nbformat": 4,
 "nbformat_minor": 2
}
