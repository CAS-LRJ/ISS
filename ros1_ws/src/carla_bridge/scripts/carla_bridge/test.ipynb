{
 "cells": [
  {
   "cell_type": "code",
   "execution_count": 5,
   "metadata": {},
   "outputs": [
    {
     "name": "stdout",
     "output_type": "stream",
     "text": [
      "Transform(Location(x=584.831238, y=-13.577756, z=0.300000), Rotation(pitch=0.000000, yaw=-179.580566, roll=0.000000))\n",
      "Transform(Location(x=122.566803, y=45.258755, z=0.300000), Rotation(pitch=0.000000, yaw=-0.053955, roll=0.000000))\n"
     ]
    }
   ],
   "source": [
    "import carla\n",
    "\n",
    "client = carla.Client('localhost', 2000)\n",
    "client.set_timeout(5.0)\n",
    "client.load_world('Town06')\n",
    "\n",
    "world = client.get_world()\n",
    "spawn_points = world.get_map().get_spawn_points()\n",
    "\n",
    "print(spawn_points[1])\n",
    "print(spawn_points[10])"
   ]
  }
 ],
 "metadata": {
  "kernelspec": {
   "display_name": "iss",
   "language": "python",
   "name": "python3"
  },
  "language_info": {
   "codemirror_mode": {
    "name": "ipython",
    "version": 3
   },
   "file_extension": ".py",
   "mimetype": "text/x-python",
   "name": "python",
   "nbconvert_exporter": "python",
   "pygments_lexer": "ipython3",
   "version": "3.8.18"
  }
 },
 "nbformat": 4,
 "nbformat_minor": 2
}
