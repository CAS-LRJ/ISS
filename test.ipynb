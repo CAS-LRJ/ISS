{
 "cells": [
  {
   "cell_type": "code",
   "execution_count": 3,
   "metadata": {},
   "outputs": [
    {
     "name": "stdout",
     "output_type": "stream",
     "text": [
      "[65.5  0.8]\n"
     ]
    }
   ],
   "source": [
    "import numpy as np\n",
    "def rotate(loc, yaw):\n",
    "    loc_array = np.array(loc)\n",
    "    rot_mat = np.array([[np.cos(yaw), -np.sin(yaw)], [np.sin(yaw), np.cos(yaw)]])\n",
    "    loc_rotated = rot_mat @ loc_array\n",
    "    return loc_rotated\n",
    "\n",
    "loc = (3.5, 0)\n",
    "rotated = rotate(loc, -np.pi/2)\n",
    "print(rotated + np.array([65.5, 4.3]))"
   ]
  },
  {
   "cell_type": "code",
   "execution_count": 4,
   "metadata": {},
   "outputs": [
    {
     "name": "stdout",
     "output_type": "stream",
     "text": [
      "[ 6.55688629e+01  4.30881310e+00 -1.13801761e-02  1.00000000e+00]\n",
      "[ 6.65538150e+01  5.32363789e+00 -1.13801761e-02  1.00000000e+00]\n"
     ]
    }
   ],
   "source": [
    "import numpy as np\n",
    "trans = [[0.9998884201049805, -0.014936376363039017, -0.0, 65.56886291503906], [0.014936376363039017, 0.9998884201049805, 0.0, 4.308813095092773], [0.0, -0.0, 1.0, -0.011380176059901714], [0.0, 0.0, 0.0, 1.0]]\n",
    "trans = np.array(trans)\n",
    "trans\n",
    "\n",
    "ego_loc = trans[:, 3]\n",
    "print(ego_loc)\n",
    "\n",
    "npc_loc = np.array([1, 1, 0, 1])\n",
    "\n",
    "print(trans @ npc_loc)"
   ]
  }
 ],
 "metadata": {
  "kernelspec": {
   "display_name": "iss",
   "language": "python",
   "name": "python3"
  },
  "language_info": {
   "codemirror_mode": {
    "name": "ipython",
    "version": 3
   },
   "file_extension": ".py",
   "mimetype": "text/x-python",
   "name": "python",
   "nbconvert_exporter": "python",
   "pygments_lexer": "ipython3",
   "version": "3.8.18"
  }
 },
 "nbformat": 4,
 "nbformat_minor": 2
}
