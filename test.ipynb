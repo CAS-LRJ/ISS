{
 "cells": [
  {
   "cell_type": "code",
   "execution_count": 2,
   "metadata": {},
   "outputs": [
    {
     "data": {
      "text/plain": [
       "1"
      ]
     },
     "execution_count": 2,
     "metadata": {},
     "output_type": "execute_result"
    }
   ],
   "source": [
    "class Element:\n",
    "    def __init__(self, value):\n",
    "        value = value\n",
    "        next = None\n",
    "    \n",
    "ele_list = [Element(1), Element(2), Element(3), Element(4), Element(5)]\n",
    "min(ele_list, key=lambda x: x.value).value"
   ]
  },
  {
   "cell_type": "code",
   "execution_count": 9,
   "metadata": {},
   "outputs": [
    {
     "name": "stdout",
     "output_type": "stream",
     "text": [
      "(True, 1)\n"
     ]
    },
    {
     "name": "stderr",
     "output_type": "stream",
     "text": [
      "/tmp/ipykernel_76947/2783806787.py:7: MatplotlibDeprecationWarning: Adding an axes using the same arguments as a previous axes currently reuses the earlier instance.  In a future version, a new instance will always be created and returned.  Meanwhile, this warning can be suppressed, and the future behavior ensured, by passing a unique label to each axes instance.\n",
      "  plt.axes().set_aspect('equal')\n"
     ]
    },
    {
     "data": {
      "image/png": "[encoded data removed]",
      "text/plain": [
       "<Figure size 640x480 with 1 Axes>"
      ]
     },
     "metadata": {},
     "output_type": "display_data"
    }
   ],
   "source": [
    "import numpy as np\n",
    "import matplotlib.pyplot as plt\n",
    "\n",
    "path = [(-1.8062234491964542, 2.7098184497742377, -1.619855462616086), (-1.8126093760743336, 2.5797549512001936, -1.6691448212842608), (-1.8248841767333615, 2.455348375607629, -1.6491026994865374), (-1.8344002773827994, 2.334072905774875, -1.6418540531351384), (-1.8426878823411341, 2.217637268245199, -1.6317310588285192), (-1.8494190115248645, 2.1073094484792083, -1.6173872831729499), (-1.854232899360396, 2.00406185476328, -1.6026431410243969), (-1.8572678251522057, 1.9087964485121376, -1.5871902907888569), (-1.8586881715199728, 1.8221658373347176, -1.570595898771984), (-1.8586726339140855, 1.7446437151614742, -1.553252380738296), (-1.8574773181596496, 1.6765180430558764, -1.5353117891041859), (-1.8553958417388896, 1.6178839773247802, -1.5168667881933522), (-1.8527378947684419, 1.5686462172239712, -1.49798270084864), (-1.849810906762225, 1.5285189285867127, -1.4787188585554392), (-1.8469029806194994, 1.4970269306204627, -1.4591674819232985), (-1.8442662906640397, 1.47350497337697, -1.4394194721850835), (-1.8420982402108896, 1.4570974969265649, -1.4195729051866257), (-1.8405227443579193, 1.4467587032914735, -1.3997700552533383), (-1.8395717712946804, 1.44125263138164, -1.380359613327978), (-1.8391670585827253, 1.439153202239187, -1.380359613327978)]\n",
    "path_array = np.array(path)\n",
    "plt.plot(path_array[:, 0], path_array[:, 1])\n",
    "plt.axes().set_aspect('equal')\n",
    "\n",
    "import pickle\n",
    "from scipy.spatial import KDTree\n",
    "import math\n",
    "\n",
    "_spatial_temporal_obstacles_array = pickle.load(open('/home/shaohang/work_space/autonomous_vehicle/ISS/obstacle.pkl', 'rb'))\n",
    "_spatial_temporal_obstacles = KDTree(_spatial_temporal_obstacles_array)\n",
    "\n",
    "_obstacles_info_list = pickle.load(open('/home/shaohang/work_space/autonomous_vehicle/ISS/obstacle_info.pkl', 'rb'))\n",
    "\n",
    "def get_circle_centers(x, y, heading_angle, length, width, num_circles=3):\n",
    "    spacing = length / num_circles\n",
    "    centers = [(x + spacing * (j - (num_circles + 1) / 2) * math.cos(heading_angle),\n",
    "                y + spacing * (j - (num_circles + 1) / 2) * math.sin(heading_angle))\n",
    "               for j in range(1, num_circles + 1)]\n",
    "    r = 0.5 * math.sqrt((length / num_circles) ** 2 + width ** 2)\n",
    "    return centers, r\n",
    "\n",
    "def collision_check(path):\n",
    "    if _spatial_temporal_obstacles is None:\n",
    "        return False, 0\n",
    "    ego_length = 0.35\n",
    "    ego_width = 0.2\n",
    "    for i, wpt in enumerate(path):\n",
    "        ego_heading = wpt[2]\n",
    "        ego_center = [wpt[0], wpt[1]]\n",
    "        ego_circle_centers, ego_radius = get_circle_centers(ego_center[0], ego_center[1], ego_heading, ego_length, ego_width)\n",
    "        for ego_circle_center in ego_circle_centers:\n",
    "            ego_circle_center_array = np.array(ego_circle_center)\n",
    "            possible_obstacles = _spatial_temporal_obstacles.query_ball_point(ego_circle_center_array, 6 * ego_radius)\n",
    "            for idx in possible_obstacles:\n",
    "                obs_info = _obstacles_info_list[idx]\n",
    "                if obs_info[0] in [(i + j) for j in range(-1, 2)]:                    \n",
    "                    dist = np.linalg.norm(ego_circle_center_array - _spatial_temporal_obstacles.data[idx])\n",
    "                    if dist < (ego_radius + obs_info[1]):\n",
    "                        return True, 1\n",
    "    return False, 0\n",
    "\n",
    "print(collision_check(path))\n"
   ]
  }
 ],
 "metadata": {
  "kernelspec": {
   "display_name": "iss",
   "language": "python",
   "name": "python3"
  },
  "language_info": {
   "codemirror_mode": {
    "name": "ipython",
    "version": 3
   },
   "file_extension": ".py",
   "mimetype": "text/x-python",
   "name": "python",
   "nbconvert_exporter": "python",
   "pygments_lexer": "ipython3",
   "version": "3.8.18"
  }
 },
 "nbformat": 4,
 "nbformat_minor": 2
}
