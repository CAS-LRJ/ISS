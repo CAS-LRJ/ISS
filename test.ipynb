{
 "cells": [
  {
   "cell_type": "code",
   "execution_count": 1,
   "metadata": {},
   "outputs": [],
   "source": [
    "import carla\n",
    "\n",
    "def get_carla_blueprints():\n",
    "    # Connect to a running CARLA server\n",
    "    client = carla.Client('localhost', 2000)\n",
    "    client.set_timeout(10.0)\n",
    "\n",
    "    # Get the world\n",
    "    world = client.get_world()\n",
    "\n",
    "    # Get the blueprint library\n",
    "    blueprint_library = world.get_blueprint_library()\n",
    "\n",
    "    # Retrieve all blueprint names\n",
    "    blueprint_names = [blueprint.id for blueprint in blueprint_library]\n",
    "\n",
    "    return blueprint_names\n",
    "\n",
    "# Call the function and print the blueprint names\n",
    "blueprint_names = get_carla_blueprints()\n"
   ]
  },
  {
   "cell_type": "code",
   "execution_count": 2,
   "metadata": {},
   "outputs": [
    {
     "name": "stdout",
     "output_type": "stream",
     "text": [
      "['static.prop.mesh', 'static.prop.trashcan01', 'static.prop.trashbag', 'static.prop.trafficwarning', 'static.prop.trafficcone02', 'static.prop.trafficcone01', 'static.prop.table', 'static.prop.streetbarrier', 'static.prop.shoppingtrolley', 'static.prop.shoppingbag', 'static.prop.shoppingcart', 'static.prop.plasticchair', 'static.prop.plantpot08', 'static.prop.platformgarbage01', 'static.prop.plasticbag', 'static.prop.plantpot07', 'static.prop.plantpot05', 'static.prop.plantpot03', 'static.prop.plantpot02', 'static.prop.plantpot01', 'static.prop.fountain', 'static.prop.motorhelmet', 'static.prop.maptable', 'static.prop.kiosk_01', 'static.prop.ironplank', 'static.prop.gnome', 'static.prop.gardenlamp', 'static.prop.travelcase', 'static.prop.garbage06', 'static.prop.swing', 'static.prop.garbage04', 'static.prop.garbage01', 'static.prop.dirtdebris03', 'static.prop.dirtdebris01', 'static.prop.creasedbox02', 'static.prop.purse', 'static.prop.guitarcase', 'static.prop.constructioncone', 'static.prop.streetfountain', 'static.prop.streetsign', 'static.prop.container', 'static.prop.clothcontainer', 'static.prop.chainbarrierend', 'static.prop.busstop', 'static.prop.brokentile02', 'static.prop.box03', 'static.prop.box02', 'static.prop.bike helmet', 'static.prop.bench03', 'static.prop.bench02', 'controller.ai.walker', 'static.prop.garbage02', 'static.prop.barrel', 'walker.pedestrian.0049', 'walker.pedestrian.0046', 'static.prop.advertisement', 'walker.pedestrian.0045', 'walker.pedestrian.0044', 'static.prop.creasedbox03', 'walker.pedestrian.0043', 'walker.pedestrian.0042', 'walker.pedestrian.0041', 'walker.pedestrian.0039', 'static.prop.trashcan03', 'static.prop.brokentile01', 'walker.pedestrian.0038', 'static.prop.garbage05', 'walker.pedestrian.0037', 'walker.pedestrian.0036', 'walker.pedestrian.0035', 'static.prop.colacan', 'walker.pedestrian.0034', 'walker.pedestrian.0033', 'walker.pedestrian.0028', 'static.prop.clothesline', 'walker.pedestrian.0024', 'static.prop.box01', 'walker.pedestrian.0022', 'static.prop.vendingmachine', 'walker.pedestrian.0030', 'walker.pedestrian.0021', 'walker.pedestrian.0020', 'walker.pedestrian.0019', 'walker.pedestrian.0016', 'static.prop.doghouse', 'walker.pedestrian.0040', 'walker.pedestrian.0014', 'static.prop.streetsign01', 'walker.pedestrian.0011', 'static.prop.streetsign04', 'static.prop.plastictable', 'walker.pedestrian.0031', 'walker.pedestrian.0023', 'walker.pedestrian.0009', 'walker.pedestrian.0047', 'walker.pedestrian.0007', 'walker.pedestrian.0006', 'walker.pedestrian.0048', 'walker.pedestrian.0005', 'walker.pedestrian.0004', 'walker.pedestrian.0003', 'static.prop.creasedbox01', 'walker.pedestrian.0001', 'sensor.camera.instance_segmentation', 'static.prop.plantpot04', 'sensor.camera.semantic_segmentation', 'static.prop.bench01', 'walker.pedestrian.0032', 'walker.pedestrian.0010', 'sensor.camera.rgb', 'static.prop.wateringcan', 'sensor.other.rss', 'static.prop.pergola', 'sensor.lidar.ray_cast_semantic', 'sensor.camera.optical_flow', 'static.prop.briefcase', 'walker.pedestrian.0018', 'sensor.other.radar', 'sensor.other.obstacle', 'static.prop.slide', 'static.prop.brokentile04', 'sensor.other.lane_invasion', 'static.prop.trashcan04', 'static.prop.trashcan02', 'sensor.other.imu', 'static.prop.plantpot06', 'static.prop.glasscontainer', 'static.prop.chainbarrier', 'sensor.camera.dvs', 'static.prop.trampoline', 'sensor.camera.depth', 'static.prop.trashcan05', 'sensor.other.collision', 'vehicle.volkswagen.t2_2021', 'walker.pedestrian.0008', 'vehicle.ford.crown', 'static.prop.calibrator', 'static.prop.mobile', 'vehicle.mercedes.sprinter', 'vehicle.nissan.patrol_2021', 'vehicle.mini.cooper_s_2021', 'vehicle.vespa.zx125', 'vehicle.carlamotors.firetruck', 'walker.pedestrian.0013', 'vehicle.ford.ambulance', 'walker.pedestrian.0015', 'vehicle.dodge.charger_police_2020', 'walker.pedestrian.0029', 'vehicle.dodge.charger_2020', 'vehicle.mercedes.coupe_2020', 'vehicle.lincoln.mkz_2020', 'static.prop.garbage03', 'static.prop.barbeque', 'static.prop.atm', 'walker.pedestrian.0026', 'vehicle.ford.mustang', 'vehicle.lincoln.mkz_2017', 'vehicle.volkswagen.t2', 'vehicle.tesla.model3', 'static.trigger.friction', 'sensor.lidar.ray_cast', 'vehicle.tesla.cybertruck', 'vehicle.audi.etron', 'static.prop.swingcouch', 'walker.pedestrian.0002', 'vehicle.diamondback.century', 'sensor.other.gnss', 'vehicle.gazelle.omafiets', 'vehicle.bh.crossbike', 'static.prop.brokentile03', 'vehicle.kawasaki.ninja', 'vehicle.yamaha.yzf', 'vehicle.harley-davidson.low_rider', 'vehicle.toyota.prius', 'vehicle.seat.leon', 'vehicle.nissan.patrol', 'vehicle.nissan.micra', 'vehicle.mini.cooper_s', 'static.prop.dirtdebris02', 'vehicle.mercedes.coupe', 'walker.pedestrian.0027', 'vehicle.jeep.wrangler_rubicon', 'static.prop.bin', 'vehicle.dodge.charger_police', 'vehicle.citroen.c3', 'vehicle.chevrolet.impala', 'walker.pedestrian.0025', 'vehicle.carlamotors.carlacola', 'static.prop.mailbox', 'vehicle.micro.microlino', 'walker.pedestrian.0017', 'walker.pedestrian.0012', 'vehicle.bmw.grandtourer', 'vehicle.audi.tt', 'vehicle.audi.a2']\n"
     ]
    }
   ],
   "source": [
    "print(blueprint_names)"
   ]
  }
 ],
 "metadata": {
  "kernelspec": {
   "display_name": "iss",
   "language": "python",
   "name": "python3"
  },
  "language_info": {
   "codemirror_mode": {
    "name": "ipython",
    "version": 3
   },
   "file_extension": ".py",
   "mimetype": "text/x-python",
   "name": "python",
   "nbconvert_exporter": "python",
   "pygments_lexer": "ipython3",
   "version": "3.8.18"
  }
 },
 "nbformat": 4,
 "nbformat_minor": 2
}
